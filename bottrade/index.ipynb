{
 "metadata": {
  "language_info": {
   "codemirror_mode": {
    "name": "ipython",
    "version": 3
   },
   "file_extension": ".py",
   "mimetype": "text/x-python",
   "name": "python",
   "nbconvert_exporter": "python",
   "pygments_lexer": "ipython3",
   "version": "3.9.4"
  },
  "orig_nbformat": 2,
  "kernelspec": {
   "name": "python39464bit235f2c2ce9664682b392892a2a6001a1",
   "display_name": "Python 3.9.4 64-bit",
   "language": "python"
  }
 },
 "nbformat": 4,
 "nbformat_minor": 2,
 "cells": [
  {
   "cell_type": "code",
   "execution_count": 1,
   "metadata": {},
   "outputs": [],
   "source": [
    "import requests as rq\n",
    "import json"
   ]
  },
  {
   "cell_type": "code",
   "execution_count": 2,
   "metadata": {},
   "outputs": [],
   "source": [
    "def getPrice(symbol, exchange='binance'):\n",
    "    respond = rq.get(\"http://localhost:8080/coin/price\", params={\"symbol\": symbol, \"exchange\": exchange})\n",
    "    return float(json.loads(respond.text)['price'])"
   ]
  },
  {
   "cell_type": "code",
   "execution_count": 3,
   "metadata": {},
   "outputs": [],
   "source": [
    "Coins = ['XLMUSDT', 'ETHUSDT', 'BTCUSDT', 'DOTUSDT', 'ADAUSDT', 'SOLUSDT','MATICUSDT','KSMUSDT', 'CAKEUSDT', 'BNBUSDT', 'VETUSDT']"
   ]
  },
  {
   "cell_type": "code",
   "execution_count": 4,
   "metadata": {},
   "outputs": [
    {
     "output_type": "stream",
     "name": "stdout",
     "text": [
      "0.41515\n",
      "2711.99\n",
      "38115.0\n",
      "24.27\n",
      "1.6524\n",
      "33.809\n",
      "1.97804\n",
      "318.5\n",
      "18.129\n",
      "365.54\n",
      "0.1217\n"
     ]
    }
   ],
   "source": [
    "for coin in Coins:\n",
    "    print(getPrice(coin))"
   ]
  },
  {
   "cell_type": "code",
   "execution_count": 8,
   "metadata": {},
   "outputs": [],
   "source": [
    "Amount = [0 for coin in Coins]"
   ]
  },
  {
   "cell_type": "code",
   "execution_count": 9,
   "metadata": {},
   "outputs": [],
   "source": [
    "def updateAmount(HaveValue):\n",
    "    global Amount\n",
    "    for i, symbol in enumerate(Coins):\n",
    "        price = getPrice(symbol)\n",
    "        Amount[i] = HaveValue/price\n",
    "    for i, symbol in enumerate(Coins):\n",
    "        print(f\"{symbol} at amount {'{:.2f}'.format(Amount[i])}\")\n"
   ]
  },
  {
   "cell_type": "code",
   "execution_count": 10,
   "metadata": {},
   "outputs": [
    {
     "output_type": "stream",
     "name": "stdout",
     "text": [
      "XLMUSDT at amount 2407.55\nETHUSDT at amount 0.37\nBTCUSDT at amount 0.03\nDOTUSDT at amount 41.21\nADAUSDT at amount 605.62\nSOLUSDT at amount 29.57\nMATICUSDT at amount 505.42\nKSMUSDT at amount 3.15\nCAKEUSDT at amount 55.33\nBNBUSDT at amount 2.74\nVETUSDT at amount 8235.88\n"
     ]
    }
   ],
   "source": [
    "updateAmount(1000)"
   ]
  },
  {
   "cell_type": "code",
   "execution_count": 11,
   "metadata": {},
   "outputs": [],
   "source": [
    "def buyOrSell(coin,amount,side):\n",
    "    url = 'http://localhost:5000/coin/' + side\n",
    "    rq.post(url, json={\"symbol\": coin, \"amount\": amount, \"exchange\": 'binance', \"port\": 'bot_port', 'buy_price':\"\", \"sell_price\": \"\"})"
   ]
  },
  {
   "cell_type": "code",
   "execution_count": 12,
   "metadata": {},
   "outputs": [],
   "source": [
    "def Arbitrage(Coins, principal, gain):\n",
    "    global Amount\n",
    "    Amount = [0 for coin in Coins]\n",
    "    HaveValue = principal\n",
    "    HaveCoin = \"XLMUSDT\"\n",
    "    HaveAmount = HaveValue/getPrice(HaveCoin)\n",
    "    buyOrSell(HaveCoin, HaveAmount, 'buy')\n",
    "    updateAmount(HaveValue, )\n",
    "    print(f\"now holding {HaveCoin} with amount {HaveAmount}\")\n",
    "    while(True):\n",
    "        for i,symbol in enumerate(Coins):\n",
    "            if (HaveCoin != \"\"):\n",
    "                HavePrice = getPrice(HaveCoin)\n",
    "                HaveValue = HavePrice * HaveAmount\n",
    "            price = getPrice(symbol)\n",
    "            #print(f'price of {symbol} is {price}')\n",
    "            if (Amount[i] != 0 and (HaveValue/price)/Amount[i] > (1+gain/100) and HaveCoin != symbol):\n",
    "                print(f'switch arbitragely to {symbol}, with new coin amount of {HaveValue/price} versus old coin amount of {Amount[i]}')\n",
    "                buyOrSell(HaveCoin, HaveAmount, 'sell')\n",
    "                HaveCoin = symbol\n",
    "                HaveAmount = HaveValue/price\n",
    "                Amount[i] = HaveAmount\n",
    "                print(f\"now holding {symbol} with amount {Amount[i]}\")\n",
    "                buyOrSell(HaveCoin, HaveAmount, 'buy')\n",
    "            else:\n",
    "                pass\n",
    "                # if HaveCoin != symbol:\n",
    "                    # print(f'still can\\'t find arbitrage, {symbol} can do only {((HaveValue/price)/Amount[i]) * 100 - 100}%')"
   ]
  },
  {
   "cell_type": "code",
   "execution_count": 13,
   "metadata": {},
   "outputs": [
    {
     "output_type": "stream",
     "name": "stdout",
     "text": [
      "XLMUSDT at amount 79.54\nETHUSDT at amount 0.01\nBTCUSDT at amount 0.00\nDOTUSDT at amount 1.36\nADAUSDT at amount 20.01\nSOLUSDT at amount 0.98\nMATICUSDT at amount 16.68\nKSMUSDT at amount 0.10\nCAKEUSDT at amount 1.83\nBNBUSDT at amount 0.09\nVETUSDT at amount 272.01\nnow holding XLMUSDT with amount 79.49700079497\n"
     ]
    },
    {
     "output_type": "error",
     "ename": "ZeroDivisionError",
     "evalue": "float division by zero",
     "traceback": [
      "\u001b[0;31m---------------------------------------------------------------------------\u001b[0m",
      "\u001b[0;31mZeroDivisionError\u001b[0m                         Traceback (most recent call last)",
      "\u001b[0;32m<ipython-input-13-8ed2101e15cd>\u001b[0m in \u001b[0;36m<module>\u001b[0;34m\u001b[0m\n\u001b[0;32m----> 1\u001b[0;31m \u001b[0mArbitrage\u001b[0m\u001b[0;34m(\u001b[0m\u001b[0mCoins\u001b[0m\u001b[0;34m,\u001b[0m \u001b[0;36m33\u001b[0m\u001b[0;34m,\u001b[0m \u001b[0mgain\u001b[0m\u001b[0;34m=\u001b[0m\u001b[0;36m7\u001b[0m\u001b[0;34m)\u001b[0m\u001b[0;34m\u001b[0m\u001b[0;34m\u001b[0m\u001b[0m\n\u001b[0m",
      "\u001b[0;32m<ipython-input-12-bb6d15484618>\u001b[0m in \u001b[0;36mArbitrage\u001b[0;34m(Coins, principal, gain)\u001b[0m\n\u001b[1;32m     15\u001b[0m             \u001b[0mprice\u001b[0m \u001b[0;34m=\u001b[0m \u001b[0mgetPrice\u001b[0m\u001b[0;34m(\u001b[0m\u001b[0msymbol\u001b[0m\u001b[0;34m)\u001b[0m\u001b[0;34m\u001b[0m\u001b[0;34m\u001b[0m\u001b[0m\n\u001b[1;32m     16\u001b[0m             \u001b[0;31m#print(f'price of {symbol} is {price}')\u001b[0m\u001b[0;34m\u001b[0m\u001b[0;34m\u001b[0m\u001b[0;34m\u001b[0m\u001b[0m\n\u001b[0;32m---> 17\u001b[0;31m             \u001b[0;32mif\u001b[0m \u001b[0;34m(\u001b[0m\u001b[0mAmount\u001b[0m\u001b[0;34m[\u001b[0m\u001b[0mi\u001b[0m\u001b[0;34m]\u001b[0m \u001b[0;34m!=\u001b[0m \u001b[0;36m0\u001b[0m \u001b[0;32mand\u001b[0m \u001b[0;34m(\u001b[0m\u001b[0mHaveValue\u001b[0m\u001b[0;34m/\u001b[0m\u001b[0mprice\u001b[0m\u001b[0;34m)\u001b[0m\u001b[0;34m/\u001b[0m\u001b[0mAmount\u001b[0m\u001b[0;34m[\u001b[0m\u001b[0mi\u001b[0m\u001b[0;34m]\u001b[0m \u001b[0;34m>\u001b[0m \u001b[0;34m(\u001b[0m\u001b[0;36m1\u001b[0m\u001b[0;34m+\u001b[0m\u001b[0mgain\u001b[0m\u001b[0;34m/\u001b[0m\u001b[0;36m100\u001b[0m\u001b[0;34m)\u001b[0m \u001b[0;32mand\u001b[0m \u001b[0mHaveCoin\u001b[0m \u001b[0;34m!=\u001b[0m \u001b[0msymbol\u001b[0m\u001b[0;34m)\u001b[0m\u001b[0;34m:\u001b[0m\u001b[0;34m\u001b[0m\u001b[0;34m\u001b[0m\u001b[0m\n\u001b[0m\u001b[1;32m     18\u001b[0m                 \u001b[0mprint\u001b[0m\u001b[0;34m(\u001b[0m\u001b[0;34mf'switch arbitragely to {symbol}, with new coin amount of {HaveValue/price} versus old coin amount of {Amount[i]}'\u001b[0m\u001b[0;34m)\u001b[0m\u001b[0;34m\u001b[0m\u001b[0;34m\u001b[0m\u001b[0m\n\u001b[1;32m     19\u001b[0m                 \u001b[0mbuyOrSell\u001b[0m\u001b[0;34m(\u001b[0m\u001b[0mHaveCoin\u001b[0m\u001b[0;34m,\u001b[0m \u001b[0mHaveAmount\u001b[0m\u001b[0;34m,\u001b[0m \u001b[0;34m'sell'\u001b[0m\u001b[0;34m)\u001b[0m\u001b[0;34m\u001b[0m\u001b[0;34m\u001b[0m\u001b[0m\n",
      "\u001b[0;31mZeroDivisionError\u001b[0m: float division by zero"
     ]
    }
   ],
   "source": [
    "Arbitrage(Coins, 33, gain=7)"
   ]
  },
  {
   "cell_type": "code",
   "execution_count": 72,
   "metadata": {},
   "outputs": [
    {
     "output_type": "stream",
     "name": "stdout",
     "text": [
      "[\u001b[1A\u001b[2K5\n"
     ]
    }
   ],
   "source": [
    "import sys\n",
    "import time\n",
    "import os\n",
    "\n",
    "\n",
    "toolbar_width = 10\n",
    "\n",
    "sys.stdout.write(\"[\")\n",
    "\n",
    "# for i in range(toolbar_width):\n",
    "#     time.sleep(0.5) # do real work here\n",
    "#     # update the bar\n",
    "#     sys.stdout.write(\"-\")\n",
    "\n",
    "# sys.stdout.write(\"]\\n\") # this ends the progress bar"
   ]
  },
  {
   "cell_type": "code",
   "execution_count": null,
   "metadata": {},
   "outputs": [],
   "source": []
  }
 ]
}